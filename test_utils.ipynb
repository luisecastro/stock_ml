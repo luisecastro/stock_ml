{
 "cells": [
  {
   "cell_type": "code",
   "execution_count": 34,
   "metadata": {},
   "outputs": [],
   "source": [
    "import pandas as pd\n",
    "import trafalgar as tg\n",
    "import utils as ut\n",
    "import matplotlib.pyplot as plt\n",
    "import numpy as np"
   ]
  },
  {
   "cell_type": "code",
   "execution_count": 8,
   "metadata": {},
   "outputs": [],
   "source": [
    "file_name = 'ohlcv_5_13_2021.parquet'\n",
    "ohlcv = pd.read_parquet(file_name)"
   ]
  },
  {
   "cell_type": "code",
   "execution_count": 9,
   "metadata": {},
   "outputs": [
    {
     "data": {
      "text/html": [
       "<div>\n",
       "<style scoped>\n",
       "    .dataframe tbody tr th:only-of-type {\n",
       "        vertical-align: middle;\n",
       "    }\n",
       "\n",
       "    .dataframe tbody tr th {\n",
       "        vertical-align: top;\n",
       "    }\n",
       "\n",
       "    .dataframe thead tr th {\n",
       "        text-align: left;\n",
       "    }\n",
       "\n",
       "    .dataframe thead tr:last-of-type th {\n",
       "        text-align: right;\n",
       "    }\n",
       "</style>\n",
       "<table border=\"1\" class=\"dataframe\">\n",
       "  <thead>\n",
       "    <tr>\n",
       "      <th>Attributes</th>\n",
       "      <th colspan=\"10\" halign=\"left\">Open</th>\n",
       "      <th>...</th>\n",
       "      <th colspan=\"10\" halign=\"left\">Volume</th>\n",
       "    </tr>\n",
       "    <tr>\n",
       "      <th>Symbols</th>\n",
       "      <th>SQ</th>\n",
       "      <th>AVID</th>\n",
       "      <th>KIRK</th>\n",
       "      <th>FB</th>\n",
       "      <th>TSLA</th>\n",
       "      <th>CROX</th>\n",
       "      <th>HVBTF</th>\n",
       "      <th>NTP</th>\n",
       "      <th>UROY</th>\n",
       "      <th>SCHN</th>\n",
       "      <th>...</th>\n",
       "      <th>PEP</th>\n",
       "      <th>LMR</th>\n",
       "      <th>GRAT</th>\n",
       "      <th>ETMC</th>\n",
       "      <th>WML</th>\n",
       "      <th>NILI</th>\n",
       "      <th>TOI</th>\n",
       "      <th>BTCC</th>\n",
       "      <th>HIVE</th>\n",
       "      <th>NPI</th>\n",
       "    </tr>\n",
       "    <tr>\n",
       "      <th>Date</th>\n",
       "      <th></th>\n",
       "      <th></th>\n",
       "      <th></th>\n",
       "      <th></th>\n",
       "      <th></th>\n",
       "      <th></th>\n",
       "      <th></th>\n",
       "      <th></th>\n",
       "      <th></th>\n",
       "      <th></th>\n",
       "      <th></th>\n",
       "      <th></th>\n",
       "      <th></th>\n",
       "      <th></th>\n",
       "      <th></th>\n",
       "      <th></th>\n",
       "      <th></th>\n",
       "      <th></th>\n",
       "      <th></th>\n",
       "      <th></th>\n",
       "      <th></th>\n",
       "    </tr>\n",
       "  </thead>\n",
       "  <tbody>\n",
       "    <tr>\n",
       "      <th>2016-01-04</th>\n",
       "      <td>12.75</td>\n",
       "      <td>7.16</td>\n",
       "      <td>14.26</td>\n",
       "      <td>101.949997</td>\n",
       "      <td>46.144001</td>\n",
       "      <td>9.95</td>\n",
       "      <td>0.02</td>\n",
       "      <td>5.84</td>\n",
       "      <td>NaN</td>\n",
       "      <td>14.20</td>\n",
       "      <td>...</td>\n",
       "      <td>6689000.0</td>\n",
       "      <td>NaN</td>\n",
       "      <td>NaN</td>\n",
       "      <td>NaN</td>\n",
       "      <td>NaN</td>\n",
       "      <td>NaN</td>\n",
       "      <td>NaN</td>\n",
       "      <td>NaN</td>\n",
       "      <td>NaN</td>\n",
       "      <td>NaN</td>\n",
       "    </tr>\n",
       "    <tr>\n",
       "      <th>2016-01-05</th>\n",
       "      <td>12.20</td>\n",
       "      <td>7.97</td>\n",
       "      <td>14.15</td>\n",
       "      <td>102.889999</td>\n",
       "      <td>45.271999</td>\n",
       "      <td>9.85</td>\n",
       "      <td>0.02</td>\n",
       "      <td>5.78</td>\n",
       "      <td>NaN</td>\n",
       "      <td>14.18</td>\n",
       "      <td>...</td>\n",
       "      <td>4893800.0</td>\n",
       "      <td>NaN</td>\n",
       "      <td>NaN</td>\n",
       "      <td>NaN</td>\n",
       "      <td>NaN</td>\n",
       "      <td>NaN</td>\n",
       "      <td>NaN</td>\n",
       "      <td>NaN</td>\n",
       "      <td>NaN</td>\n",
       "      <td>NaN</td>\n",
       "    </tr>\n",
       "    <tr>\n",
       "      <th>2016-01-06</th>\n",
       "      <td>11.50</td>\n",
       "      <td>7.65</td>\n",
       "      <td>13.91</td>\n",
       "      <td>101.129997</td>\n",
       "      <td>44.000000</td>\n",
       "      <td>9.67</td>\n",
       "      <td>0.02</td>\n",
       "      <td>5.80</td>\n",
       "      <td>NaN</td>\n",
       "      <td>13.85</td>\n",
       "      <td>...</td>\n",
       "      <td>5483400.0</td>\n",
       "      <td>NaN</td>\n",
       "      <td>NaN</td>\n",
       "      <td>NaN</td>\n",
       "      <td>NaN</td>\n",
       "      <td>NaN</td>\n",
       "      <td>NaN</td>\n",
       "      <td>NaN</td>\n",
       "      <td>NaN</td>\n",
       "      <td>NaN</td>\n",
       "    </tr>\n",
       "    <tr>\n",
       "      <th>2016-01-07</th>\n",
       "      <td>11.13</td>\n",
       "      <td>7.50</td>\n",
       "      <td>13.31</td>\n",
       "      <td>100.500000</td>\n",
       "      <td>42.838001</td>\n",
       "      <td>9.50</td>\n",
       "      <td>0.02</td>\n",
       "      <td>5.73</td>\n",
       "      <td>NaN</td>\n",
       "      <td>13.53</td>\n",
       "      <td>...</td>\n",
       "      <td>5440000.0</td>\n",
       "      <td>NaN</td>\n",
       "      <td>NaN</td>\n",
       "      <td>NaN</td>\n",
       "      <td>NaN</td>\n",
       "      <td>NaN</td>\n",
       "      <td>NaN</td>\n",
       "      <td>NaN</td>\n",
       "      <td>NaN</td>\n",
       "      <td>NaN</td>\n",
       "    </tr>\n",
       "    <tr>\n",
       "      <th>2016-01-08</th>\n",
       "      <td>11.25</td>\n",
       "      <td>7.49</td>\n",
       "      <td>13.26</td>\n",
       "      <td>99.879997</td>\n",
       "      <td>43.571999</td>\n",
       "      <td>9.57</td>\n",
       "      <td>0.02</td>\n",
       "      <td>5.64</td>\n",
       "      <td>NaN</td>\n",
       "      <td>13.30</td>\n",
       "      <td>...</td>\n",
       "      <td>4853500.0</td>\n",
       "      <td>NaN</td>\n",
       "      <td>NaN</td>\n",
       "      <td>NaN</td>\n",
       "      <td>NaN</td>\n",
       "      <td>NaN</td>\n",
       "      <td>NaN</td>\n",
       "      <td>NaN</td>\n",
       "      <td>NaN</td>\n",
       "      <td>NaN</td>\n",
       "    </tr>\n",
       "  </tbody>\n",
       "</table>\n",
       "<p>5 rows × 855 columns</p>\n",
       "</div>"
      ],
      "text/plain": [
       "Attributes   Open                                                             \\\n",
       "Symbols        SQ  AVID   KIRK          FB       TSLA  CROX HVBTF   NTP UROY   \n",
       "Date                                                                           \n",
       "2016-01-04  12.75  7.16  14.26  101.949997  46.144001  9.95  0.02  5.84  NaN   \n",
       "2016-01-05  12.20  7.97  14.15  102.889999  45.271999  9.85  0.02  5.78  NaN   \n",
       "2016-01-06  11.50  7.65  13.91  101.129997  44.000000  9.67  0.02  5.80  NaN   \n",
       "2016-01-07  11.13  7.50  13.31  100.500000  42.838001  9.50  0.02  5.73  NaN   \n",
       "2016-01-08  11.25  7.49  13.26   99.879997  43.571999  9.57  0.02  5.64  NaN   \n",
       "\n",
       "Attributes         ...     Volume                                           \n",
       "Symbols      SCHN  ...        PEP LMR GRAT ETMC WML NILI TOI BTCC HIVE NPI  \n",
       "Date               ...                                                      \n",
       "2016-01-04  14.20  ...  6689000.0 NaN  NaN  NaN NaN  NaN NaN  NaN  NaN NaN  \n",
       "2016-01-05  14.18  ...  4893800.0 NaN  NaN  NaN NaN  NaN NaN  NaN  NaN NaN  \n",
       "2016-01-06  13.85  ...  5483400.0 NaN  NaN  NaN NaN  NaN NaN  NaN  NaN NaN  \n",
       "2016-01-07  13.53  ...  5440000.0 NaN  NaN  NaN NaN  NaN NaN  NaN  NaN NaN  \n",
       "2016-01-08  13.30  ...  4853500.0 NaN  NaN  NaN NaN  NaN NaN  NaN  NaN NaN  \n",
       "\n",
       "[5 rows x 855 columns]"
      ]
     },
     "execution_count": 9,
     "metadata": {},
     "output_type": "execute_result"
    }
   ],
   "source": [
    "ohlcv.head()"
   ]
  },
  {
   "cell_type": "code",
   "execution_count": 10,
   "metadata": {},
   "outputs": [
    {
     "data": {
      "text/html": [
       "<div>\n",
       "<style scoped>\n",
       "    .dataframe tbody tr th:only-of-type {\n",
       "        vertical-align: middle;\n",
       "    }\n",
       "\n",
       "    .dataframe tbody tr th {\n",
       "        vertical-align: top;\n",
       "    }\n",
       "\n",
       "    .dataframe thead tr th {\n",
       "        text-align: left;\n",
       "    }\n",
       "\n",
       "    .dataframe thead tr:last-of-type th {\n",
       "        text-align: right;\n",
       "    }\n",
       "</style>\n",
       "<table border=\"1\" class=\"dataframe\">\n",
       "  <thead>\n",
       "    <tr>\n",
       "      <th>Attributes</th>\n",
       "      <th colspan=\"10\" halign=\"left\">Open</th>\n",
       "      <th>...</th>\n",
       "      <th colspan=\"10\" halign=\"left\">Volume</th>\n",
       "    </tr>\n",
       "    <tr>\n",
       "      <th>Symbols</th>\n",
       "      <th>SQ</th>\n",
       "      <th>AVID</th>\n",
       "      <th>KIRK</th>\n",
       "      <th>FB</th>\n",
       "      <th>TSLA</th>\n",
       "      <th>CROX</th>\n",
       "      <th>HVBTF</th>\n",
       "      <th>NTP</th>\n",
       "      <th>UROY</th>\n",
       "      <th>SCHN</th>\n",
       "      <th>...</th>\n",
       "      <th>PEP</th>\n",
       "      <th>LMR</th>\n",
       "      <th>GRAT</th>\n",
       "      <th>ETMC</th>\n",
       "      <th>WML</th>\n",
       "      <th>NILI</th>\n",
       "      <th>TOI</th>\n",
       "      <th>BTCC</th>\n",
       "      <th>HIVE</th>\n",
       "      <th>NPI</th>\n",
       "    </tr>\n",
       "    <tr>\n",
       "      <th>Date</th>\n",
       "      <th></th>\n",
       "      <th></th>\n",
       "      <th></th>\n",
       "      <th></th>\n",
       "      <th></th>\n",
       "      <th></th>\n",
       "      <th></th>\n",
       "      <th></th>\n",
       "      <th></th>\n",
       "      <th></th>\n",
       "      <th></th>\n",
       "      <th></th>\n",
       "      <th></th>\n",
       "      <th></th>\n",
       "      <th></th>\n",
       "      <th></th>\n",
       "      <th></th>\n",
       "      <th></th>\n",
       "      <th></th>\n",
       "      <th></th>\n",
       "      <th></th>\n",
       "    </tr>\n",
       "  </thead>\n",
       "  <tbody>\n",
       "    <tr>\n",
       "      <th>2021-05-07</th>\n",
       "      <td>240.089996</td>\n",
       "      <td>27.260000</td>\n",
       "      <td>31.559999</td>\n",
       "      <td>322.380005</td>\n",
       "      <td>665.799988</td>\n",
       "      <td>105.800003</td>\n",
       "      <td>3.15</td>\n",
       "      <td>16.590000</td>\n",
       "      <td>3.59</td>\n",
       "      <td>55.820000</td>\n",
       "      <td>...</td>\n",
       "      <td>4181000.0</td>\n",
       "      <td>NaN</td>\n",
       "      <td>NaN</td>\n",
       "      <td>NaN</td>\n",
       "      <td>NaN</td>\n",
       "      <td>NaN</td>\n",
       "      <td>NaN</td>\n",
       "      <td>NaN</td>\n",
       "      <td>NaN</td>\n",
       "      <td>NaN</td>\n",
       "    </tr>\n",
       "    <tr>\n",
       "      <th>2021-05-10</th>\n",
       "      <td>229.619995</td>\n",
       "      <td>29.309999</td>\n",
       "      <td>31.510000</td>\n",
       "      <td>314.350006</td>\n",
       "      <td>664.900024</td>\n",
       "      <td>108.500000</td>\n",
       "      <td>3.28</td>\n",
       "      <td>19.040001</td>\n",
       "      <td>3.55</td>\n",
       "      <td>56.500000</td>\n",
       "      <td>...</td>\n",
       "      <td>5270600.0</td>\n",
       "      <td>NaN</td>\n",
       "      <td>NaN</td>\n",
       "      <td>NaN</td>\n",
       "      <td>NaN</td>\n",
       "      <td>NaN</td>\n",
       "      <td>NaN</td>\n",
       "      <td>NaN</td>\n",
       "      <td>NaN</td>\n",
       "      <td>NaN</td>\n",
       "    </tr>\n",
       "    <tr>\n",
       "      <th>2021-05-11</th>\n",
       "      <td>205.889999</td>\n",
       "      <td>26.100000</td>\n",
       "      <td>28.780001</td>\n",
       "      <td>300.750000</td>\n",
       "      <td>599.239990</td>\n",
       "      <td>101.709999</td>\n",
       "      <td>3.00</td>\n",
       "      <td>18.490000</td>\n",
       "      <td>3.36</td>\n",
       "      <td>53.520000</td>\n",
       "      <td>...</td>\n",
       "      <td>5266100.0</td>\n",
       "      <td>NaN</td>\n",
       "      <td>NaN</td>\n",
       "      <td>NaN</td>\n",
       "      <td>NaN</td>\n",
       "      <td>NaN</td>\n",
       "      <td>NaN</td>\n",
       "      <td>NaN</td>\n",
       "      <td>NaN</td>\n",
       "      <td>NaN</td>\n",
       "    </tr>\n",
       "    <tr>\n",
       "      <th>2021-05-12</th>\n",
       "      <td>215.300003</td>\n",
       "      <td>26.799999</td>\n",
       "      <td>28.780001</td>\n",
       "      <td>301.130005</td>\n",
       "      <td>602.489990</td>\n",
       "      <td>101.139999</td>\n",
       "      <td>3.14</td>\n",
       "      <td>19.389999</td>\n",
       "      <td>3.33</td>\n",
       "      <td>56.330002</td>\n",
       "      <td>...</td>\n",
       "      <td>5651700.0</td>\n",
       "      <td>NaN</td>\n",
       "      <td>NaN</td>\n",
       "      <td>NaN</td>\n",
       "      <td>NaN</td>\n",
       "      <td>NaN</td>\n",
       "      <td>NaN</td>\n",
       "      <td>NaN</td>\n",
       "      <td>NaN</td>\n",
       "      <td>NaN</td>\n",
       "    </tr>\n",
       "    <tr>\n",
       "      <th>2021-05-13</th>\n",
       "      <td>208.199997</td>\n",
       "      <td>26.360001</td>\n",
       "      <td>27.410000</td>\n",
       "      <td>306.083008</td>\n",
       "      <td>601.544983</td>\n",
       "      <td>98.980003</td>\n",
       "      <td>2.76</td>\n",
       "      <td>18.830000</td>\n",
       "      <td>3.13</td>\n",
       "      <td>53.240002</td>\n",
       "      <td>...</td>\n",
       "      <td>NaN</td>\n",
       "      <td>NaN</td>\n",
       "      <td>NaN</td>\n",
       "      <td>NaN</td>\n",
       "      <td>NaN</td>\n",
       "      <td>NaN</td>\n",
       "      <td>NaN</td>\n",
       "      <td>NaN</td>\n",
       "      <td>NaN</td>\n",
       "      <td>NaN</td>\n",
       "    </tr>\n",
       "  </tbody>\n",
       "</table>\n",
       "<p>5 rows × 855 columns</p>\n",
       "</div>"
      ],
      "text/plain": [
       "Attributes        Open                                                \\\n",
       "Symbols             SQ       AVID       KIRK          FB        TSLA   \n",
       "Date                                                                   \n",
       "2021-05-07  240.089996  27.260000  31.559999  322.380005  665.799988   \n",
       "2021-05-10  229.619995  29.309999  31.510000  314.350006  664.900024   \n",
       "2021-05-11  205.889999  26.100000  28.780001  300.750000  599.239990   \n",
       "2021-05-12  215.300003  26.799999  28.780001  301.130005  602.489990   \n",
       "2021-05-13  208.199997  26.360001  27.410000  306.083008  601.544983   \n",
       "\n",
       "Attributes                                                ...     Volume      \\\n",
       "Symbols           CROX HVBTF        NTP  UROY       SCHN  ...        PEP LMR   \n",
       "Date                                                      ...                  \n",
       "2021-05-07  105.800003  3.15  16.590000  3.59  55.820000  ...  4181000.0 NaN   \n",
       "2021-05-10  108.500000  3.28  19.040001  3.55  56.500000  ...  5270600.0 NaN   \n",
       "2021-05-11  101.709999  3.00  18.490000  3.36  53.520000  ...  5266100.0 NaN   \n",
       "2021-05-12  101.139999  3.14  19.389999  3.33  56.330002  ...  5651700.0 NaN   \n",
       "2021-05-13   98.980003  2.76  18.830000  3.13  53.240002  ...        NaN NaN   \n",
       "\n",
       "Attributes                                       \n",
       "Symbols    GRAT ETMC WML NILI TOI BTCC HIVE NPI  \n",
       "Date                                             \n",
       "2021-05-07  NaN  NaN NaN  NaN NaN  NaN  NaN NaN  \n",
       "2021-05-10  NaN  NaN NaN  NaN NaN  NaN  NaN NaN  \n",
       "2021-05-11  NaN  NaN NaN  NaN NaN  NaN  NaN NaN  \n",
       "2021-05-12  NaN  NaN NaN  NaN NaN  NaN  NaN NaN  \n",
       "2021-05-13  NaN  NaN NaN  NaN NaN  NaN  NaN NaN  \n",
       "\n",
       "[5 rows x 855 columns]"
      ]
     },
     "execution_count": 10,
     "metadata": {},
     "output_type": "execute_result"
    }
   ],
   "source": [
    "ohlcv.tail()"
   ]
  },
  {
   "cell_type": "markdown",
   "metadata": {},
   "source": [
    "### Optimize Portfolio\n",
    "- Sortino\n",
    "- Sharpe\n",
    "- Calmar\n",
    "- Profit\n",
    "- Alpha\n",
    "- Beta"
   ]
  },
  {
   "cell_type": "code",
   "execution_count": 11,
   "metadata": {},
   "outputs": [
    {
     "data": {
      "text/plain": [
       "(1350, 171)"
      ]
     },
     "execution_count": 11,
     "metadata": {},
     "output_type": "execute_result"
    }
   ],
   "source": [
    "close = ohlcv['Close']\n",
    "close.shape"
   ]
  },
  {
   "cell_type": "code",
   "execution_count": 12,
   "metadata": {},
   "outputs": [
    {
     "data": {
      "text/plain": [
       "(1349, 150)"
      ]
     },
     "execution_count": 12,
     "metadata": {},
     "output_type": "execute_result"
    }
   ],
   "source": [
    "y = 1\n",
    "td = 252\n",
    "\n",
    "index = close.isnull().sum()[((~close.isnull()).sum() >= td*y)].index\n",
    "close = close[index]\n",
    "close = close.iloc[:-1]\n",
    "close.shape"
   ]
  },
  {
   "cell_type": "code",
   "execution_count": 13,
   "metadata": {},
   "outputs": [],
   "source": [
    "close.drop(['NOB', 'ONEW'], axis=1, inplace=True)"
   ]
  },
  {
   "cell_type": "code",
   "execution_count": 14,
   "metadata": {
    "scrolled": false
   },
   "outputs": [
    {
     "name": "stdout",
     "output_type": "stream",
     "text": [
      "Optimization terminated successfully    (Exit mode 0)\n",
      "            Current function value: -50.67151796875382\n",
      "            Iterations: 59\n",
      "            Function evaluations: 8543\n",
      "            Gradient evaluations: 57\n",
      "\n",
      "sortino: 50.67152\n"
     ]
    },
    {
     "data": {
      "text/html": [
       "<div>\n",
       "<style scoped>\n",
       "    .dataframe tbody tr th:only-of-type {\n",
       "        vertical-align: middle;\n",
       "    }\n",
       "\n",
       "    .dataframe tbody tr th {\n",
       "        vertical-align: top;\n",
       "    }\n",
       "\n",
       "    .dataframe thead th {\n",
       "        text-align: right;\n",
       "    }\n",
       "</style>\n",
       "<table border=\"1\" class=\"dataframe\">\n",
       "  <thead>\n",
       "    <tr style=\"text-align: right;\">\n",
       "      <th></th>\n",
       "      <th>ticker</th>\n",
       "      <th>assigned</th>\n",
       "    </tr>\n",
       "  </thead>\n",
       "  <tbody>\n",
       "    <tr>\n",
       "      <th>101</th>\n",
       "      <td>TMUS</td>\n",
       "      <td>0.266389</td>\n",
       "    </tr>\n",
       "    <tr>\n",
       "      <th>57</th>\n",
       "      <td>CNC</td>\n",
       "      <td>0.183218</td>\n",
       "    </tr>\n",
       "    <tr>\n",
       "      <th>73</th>\n",
       "      <td>FNKO</td>\n",
       "      <td>0.098495</td>\n",
       "    </tr>\n",
       "    <tr>\n",
       "      <th>123</th>\n",
       "      <td>NAKD</td>\n",
       "      <td>0.076290</td>\n",
       "    </tr>\n",
       "    <tr>\n",
       "      <th>116</th>\n",
       "      <td>INTT</td>\n",
       "      <td>0.071888</td>\n",
       "    </tr>\n",
       "    <tr>\n",
       "      <th>131</th>\n",
       "      <td>GME</td>\n",
       "      <td>0.069521</td>\n",
       "    </tr>\n",
       "    <tr>\n",
       "      <th>75</th>\n",
       "      <td>OCGN</td>\n",
       "      <td>0.059826</td>\n",
       "    </tr>\n",
       "    <tr>\n",
       "      <th>36</th>\n",
       "      <td>ORGO</td>\n",
       "      <td>0.053822</td>\n",
       "    </tr>\n",
       "    <tr>\n",
       "      <th>47</th>\n",
       "      <td>ESTE</td>\n",
       "      <td>0.038543</td>\n",
       "    </tr>\n",
       "    <tr>\n",
       "      <th>61</th>\n",
       "      <td>CIDM</td>\n",
       "      <td>0.027511</td>\n",
       "    </tr>\n",
       "    <tr>\n",
       "      <th>48</th>\n",
       "      <td>REPX</td>\n",
       "      <td>0.025752</td>\n",
       "    </tr>\n",
       "    <tr>\n",
       "      <th>88</th>\n",
       "      <td>ESEA</td>\n",
       "      <td>0.017060</td>\n",
       "    </tr>\n",
       "    <tr>\n",
       "      <th>97</th>\n",
       "      <td>RRD</td>\n",
       "      <td>0.011686</td>\n",
       "    </tr>\n",
       "  </tbody>\n",
       "</table>\n",
       "</div>"
      ],
      "text/plain": [
       "    ticker  assigned\n",
       "101   TMUS  0.266389\n",
       "57     CNC  0.183218\n",
       "73    FNKO  0.098495\n",
       "123   NAKD  0.076290\n",
       "116   INTT  0.071888\n",
       "131    GME  0.069521\n",
       "75    OCGN  0.059826\n",
       "36    ORGO  0.053822\n",
       "47    ESTE  0.038543\n",
       "61    CIDM  0.027511\n",
       "48    REPX  0.025752\n",
       "88    ESEA  0.017060\n",
       "97     RRD  0.011686"
      ]
     },
     "execution_count": 14,
     "metadata": {},
     "output_type": "execute_result"
    }
   ],
   "source": [
    "alg = ut.sortino\n",
    "dates = ('2021-01-01', '2021-04-01')\n",
    "assigned, ratio = ut.optimize(alg, close, dates)\n",
    "assigned"
   ]
  },
  {
   "cell_type": "code",
   "execution_count": 15,
   "metadata": {
    "scrolled": true
   },
   "outputs": [
    {
     "name": "stdout",
     "output_type": "stream",
     "text": [
      "Sortino: 2.4147959415942455\n",
      "Sharpe: 1.0402986213184497\n"
     ]
    }
   ],
   "source": [
    "test_dates = ('2021-04-01', '2021-05-12')\n",
    "stock_test = close[assigned.ticker].loc[test_dates[0]:test_dates[1]].pct_change()\n",
    "\n",
    "sortino = -ut.sortino(assigned.assigned.tolist(), stock_test)\n",
    "sharpe = -ut.sharpe(assigned.assigned.tolist(), stock_test)\n",
    "\n",
    "print(f'Sortino: {sortino}\\nSharpe: {sharpe}')"
   ]
  },
  {
   "cell_type": "code",
   "execution_count": 16,
   "metadata": {},
   "outputs": [
    {
     "data": {
      "text/plain": [
       "<matplotlib.axes._subplots.AxesSubplot at 0x7fd2c50c60d0>"
      ]
     },
     "execution_count": 16,
     "metadata": {},
     "output_type": "execute_result"
    },
    {
     "data": {
      "image/png": "[encoded data removed]",
      "text/plain": [
       "<Figure size 432x288 with 1 Axes>"
      ]
     },
     "metadata": {
      "needs_background": "light"
     },
     "output_type": "display_data"
    }
   ],
   "source": [
    "((close[assigned.ticker].loc[test_dates[0]:test_dates[1]].pct_change()[1:]*assigned.assigned.tolist()).sum(axis=1)+1).cumprod().plot()"
   ]
  },
  {
   "cell_type": "code",
   "execution_count": 17,
   "metadata": {
    "scrolled": false
   },
   "outputs": [
    {
     "name": "stdout",
     "output_type": "stream",
     "text": [
      "Optimization terminated successfully    (Exit mode 0)\n",
      "            Current function value: -14.717252738209002\n",
      "            Iterations: 46\n",
      "            Function evaluations: 6858\n",
      "            Gradient evaluations: 46\n",
      "\n",
      "sharpe: 14.71725\n"
     ]
    },
    {
     "data": {
      "text/html": [
       "<div>\n",
       "<style scoped>\n",
       "    .dataframe tbody tr th:only-of-type {\n",
       "        vertical-align: middle;\n",
       "    }\n",
       "\n",
       "    .dataframe tbody tr th {\n",
       "        vertical-align: top;\n",
       "    }\n",
       "\n",
       "    .dataframe thead th {\n",
       "        text-align: right;\n",
       "    }\n",
       "</style>\n",
       "<table border=\"1\" class=\"dataframe\">\n",
       "  <thead>\n",
       "    <tr style=\"text-align: right;\">\n",
       "      <th></th>\n",
       "      <th>ticker</th>\n",
       "      <th>assigned</th>\n",
       "    </tr>\n",
       "  </thead>\n",
       "  <tbody>\n",
       "    <tr>\n",
       "      <th>146</th>\n",
       "      <td>PEP</td>\n",
       "      <td>0.211333</td>\n",
       "    </tr>\n",
       "    <tr>\n",
       "      <th>38</th>\n",
       "      <td>UAN</td>\n",
       "      <td>0.089915</td>\n",
       "    </tr>\n",
       "    <tr>\n",
       "      <th>62</th>\n",
       "      <td>CME</td>\n",
       "      <td>0.086970</td>\n",
       "    </tr>\n",
       "    <tr>\n",
       "      <th>89</th>\n",
       "      <td>CAR</td>\n",
       "      <td>0.079699</td>\n",
       "    </tr>\n",
       "    <tr>\n",
       "      <th>51</th>\n",
       "      <td>EPIX</td>\n",
       "      <td>0.079335</td>\n",
       "    </tr>\n",
       "    <tr>\n",
       "      <th>85</th>\n",
       "      <td>STKS</td>\n",
       "      <td>0.072253</td>\n",
       "    </tr>\n",
       "    <tr>\n",
       "      <th>57</th>\n",
       "      <td>CNC</td>\n",
       "      <td>0.070694</td>\n",
       "    </tr>\n",
       "    <tr>\n",
       "      <th>25</th>\n",
       "      <td>SPLP</td>\n",
       "      <td>0.069126</td>\n",
       "    </tr>\n",
       "    <tr>\n",
       "      <th>7</th>\n",
       "      <td>NTP</td>\n",
       "      <td>0.056179</td>\n",
       "    </tr>\n",
       "    <tr>\n",
       "      <th>99</th>\n",
       "      <td>FUTU</td>\n",
       "      <td>0.039976</td>\n",
       "    </tr>\n",
       "    <tr>\n",
       "      <th>39</th>\n",
       "      <td>CSU</td>\n",
       "      <td>0.036558</td>\n",
       "    </tr>\n",
       "    <tr>\n",
       "      <th>109</th>\n",
       "      <td>LB</td>\n",
       "      <td>0.025994</td>\n",
       "    </tr>\n",
       "    <tr>\n",
       "      <th>140</th>\n",
       "      <td>AMTX</td>\n",
       "      <td>0.016901</td>\n",
       "    </tr>\n",
       "    <tr>\n",
       "      <th>131</th>\n",
       "      <td>GME</td>\n",
       "      <td>0.011349</td>\n",
       "    </tr>\n",
       "    <tr>\n",
       "      <th>83</th>\n",
       "      <td>AMC</td>\n",
       "      <td>0.010503</td>\n",
       "    </tr>\n",
       "    <tr>\n",
       "      <th>48</th>\n",
       "      <td>REPX</td>\n",
       "      <td>0.009327</td>\n",
       "    </tr>\n",
       "    <tr>\n",
       "      <th>141</th>\n",
       "      <td>SLCA</td>\n",
       "      <td>0.008426</td>\n",
       "    </tr>\n",
       "    <tr>\n",
       "      <th>75</th>\n",
       "      <td>OCGN</td>\n",
       "      <td>0.008161</td>\n",
       "    </tr>\n",
       "    <tr>\n",
       "      <th>98</th>\n",
       "      <td>NEXT</td>\n",
       "      <td>0.005817</td>\n",
       "    </tr>\n",
       "    <tr>\n",
       "      <th>116</th>\n",
       "      <td>INTT</td>\n",
       "      <td>0.005650</td>\n",
       "    </tr>\n",
       "    <tr>\n",
       "      <th>36</th>\n",
       "      <td>ORGO</td>\n",
       "      <td>0.002602</td>\n",
       "    </tr>\n",
       "    <tr>\n",
       "      <th>129</th>\n",
       "      <td>VOLT</td>\n",
       "      <td>0.002387</td>\n",
       "    </tr>\n",
       "  </tbody>\n",
       "</table>\n",
       "</div>"
      ],
      "text/plain": [
       "    ticker  assigned\n",
       "146    PEP  0.211333\n",
       "38     UAN  0.089915\n",
       "62     CME  0.086970\n",
       "89     CAR  0.079699\n",
       "51    EPIX  0.079335\n",
       "85    STKS  0.072253\n",
       "57     CNC  0.070694\n",
       "25    SPLP  0.069126\n",
       "7      NTP  0.056179\n",
       "99    FUTU  0.039976\n",
       "39     CSU  0.036558\n",
       "109     LB  0.025994\n",
       "140   AMTX  0.016901\n",
       "131    GME  0.011349\n",
       "83     AMC  0.010503\n",
       "48    REPX  0.009327\n",
       "141   SLCA  0.008426\n",
       "75    OCGN  0.008161\n",
       "98    NEXT  0.005817\n",
       "116   INTT  0.005650\n",
       "36    ORGO  0.002602\n",
       "129   VOLT  0.002387"
      ]
     },
     "execution_count": 17,
     "metadata": {},
     "output_type": "execute_result"
    }
   ],
   "source": [
    "alg = ut.sharpe\n",
    "assigned, ratio = ut.optimize(alg, close, dates)\n",
    "assigned"
   ]
  },
  {
   "cell_type": "code",
   "execution_count": 18,
   "metadata": {},
   "outputs": [
    {
     "name": "stdout",
     "output_type": "stream",
     "text": [
      "Sortino: 5.609478772027885\n",
      "Sharpe: 3.9289978588022967\n"
     ]
    }
   ],
   "source": [
    "stock_test = close[assigned.ticker].loc[test_dates[0]:test_dates[1]].pct_change()\n",
    "\n",
    "sortino = -ut.sortino(assigned.assigned.tolist(), stock_test)\n",
    "sharpe = -ut.sharpe(assigned.assigned.tolist(), stock_test)\n",
    "profit = -ut.profit(assigned.assigned.tolist(), stock_test)\n",
    "\n",
    "print(f'Sortino: {sortino}\\nSharpe: {sharpe}')"
   ]
  },
  {
   "cell_type": "code",
   "execution_count": 19,
   "metadata": {},
   "outputs": [
    {
     "data": {
      "text/plain": [
       "<matplotlib.axes._subplots.AxesSubplot at 0x7fd2ca1abac0>"
      ]
     },
     "execution_count": 19,
     "metadata": {},
     "output_type": "execute_result"
    },
    {
     "data": {
      "image/png": "[encoded data removed]",
      "text/plain": [
       "<Figure size 432x288 with 1 Axes>"
      ]
     },
     "metadata": {
      "needs_background": "light"
     },
     "output_type": "display_data"
    }
   ],
   "source": [
    "((close[assigned.ticker].loc[test_dates[0]:test_dates[1]].pct_change()[1:]*assigned.assigned.tolist()).sum(axis=1)+1).cumprod().plot()"
   ]
  },
  {
   "cell_type": "code",
   "execution_count": 20,
   "metadata": {},
   "outputs": [
    {
     "name": "stdout",
     "output_type": "stream",
     "text": [
      "Iteration limit reached    (Exit mode 9)\n",
      "            Current function value: -25.453645581751\n",
      "            Iterations: 100\n",
      "            Function evaluations: 14718\n",
      "            Gradient evaluations: 96\n",
      "\n",
      "calmar: 25.45365\n"
     ]
    },
    {
     "data": {
      "text/html": [
       "<div>\n",
       "<style scoped>\n",
       "    .dataframe tbody tr th:only-of-type {\n",
       "        vertical-align: middle;\n",
       "    }\n",
       "\n",
       "    .dataframe tbody tr th {\n",
       "        vertical-align: top;\n",
       "    }\n",
       "\n",
       "    .dataframe thead th {\n",
       "        text-align: right;\n",
       "    }\n",
       "</style>\n",
       "<table border=\"1\" class=\"dataframe\">\n",
       "  <thead>\n",
       "    <tr style=\"text-align: right;\">\n",
       "      <th></th>\n",
       "      <th>ticker</th>\n",
       "      <th>assigned</th>\n",
       "    </tr>\n",
       "  </thead>\n",
       "  <tbody>\n",
       "    <tr>\n",
       "      <th>62</th>\n",
       "      <td>CME</td>\n",
       "      <td>0.228064</td>\n",
       "    </tr>\n",
       "    <tr>\n",
       "      <th>57</th>\n",
       "      <td>CNC</td>\n",
       "      <td>0.205266</td>\n",
       "    </tr>\n",
       "    <tr>\n",
       "      <th>146</th>\n",
       "      <td>PEP</td>\n",
       "      <td>0.095928</td>\n",
       "    </tr>\n",
       "    <tr>\n",
       "      <th>95</th>\n",
       "      <td>AEO</td>\n",
       "      <td>0.076769</td>\n",
       "    </tr>\n",
       "    <tr>\n",
       "      <th>38</th>\n",
       "      <td>UAN</td>\n",
       "      <td>0.050464</td>\n",
       "    </tr>\n",
       "    <tr>\n",
       "      <th>25</th>\n",
       "      <td>SPLP</td>\n",
       "      <td>0.049105</td>\n",
       "    </tr>\n",
       "    <tr>\n",
       "      <th>73</th>\n",
       "      <td>FNKO</td>\n",
       "      <td>0.044354</td>\n",
       "    </tr>\n",
       "    <tr>\n",
       "      <th>131</th>\n",
       "      <td>GME</td>\n",
       "      <td>0.043835</td>\n",
       "    </tr>\n",
       "    <tr>\n",
       "      <th>140</th>\n",
       "      <td>AMTX</td>\n",
       "      <td>0.030279</td>\n",
       "    </tr>\n",
       "    <tr>\n",
       "      <th>53</th>\n",
       "      <td>GOOGL</td>\n",
       "      <td>0.029367</td>\n",
       "    </tr>\n",
       "    <tr>\n",
       "      <th>85</th>\n",
       "      <td>STKS</td>\n",
       "      <td>0.024028</td>\n",
       "    </tr>\n",
       "    <tr>\n",
       "      <th>7</th>\n",
       "      <td>NTP</td>\n",
       "      <td>0.022940</td>\n",
       "    </tr>\n",
       "    <tr>\n",
       "      <th>51</th>\n",
       "      <td>EPIX</td>\n",
       "      <td>0.018508</td>\n",
       "    </tr>\n",
       "    <tr>\n",
       "      <th>75</th>\n",
       "      <td>OCGN</td>\n",
       "      <td>0.014047</td>\n",
       "    </tr>\n",
       "    <tr>\n",
       "      <th>129</th>\n",
       "      <td>VOLT</td>\n",
       "      <td>0.013404</td>\n",
       "    </tr>\n",
       "    <tr>\n",
       "      <th>120</th>\n",
       "      <td>GOOG</td>\n",
       "      <td>0.012773</td>\n",
       "    </tr>\n",
       "    <tr>\n",
       "      <th>77</th>\n",
       "      <td>TBK</td>\n",
       "      <td>0.012544</td>\n",
       "    </tr>\n",
       "    <tr>\n",
       "      <th>116</th>\n",
       "      <td>INTT</td>\n",
       "      <td>0.010008</td>\n",
       "    </tr>\n",
       "    <tr>\n",
       "      <th>39</th>\n",
       "      <td>CSU</td>\n",
       "      <td>0.006013</td>\n",
       "    </tr>\n",
       "    <tr>\n",
       "      <th>47</th>\n",
       "      <td>ESTE</td>\n",
       "      <td>0.005559</td>\n",
       "    </tr>\n",
       "    <tr>\n",
       "      <th>98</th>\n",
       "      <td>NEXT</td>\n",
       "      <td>0.005154</td>\n",
       "    </tr>\n",
       "    <tr>\n",
       "      <th>61</th>\n",
       "      <td>CIDM</td>\n",
       "      <td>0.004956</td>\n",
       "    </tr>\n",
       "    <tr>\n",
       "      <th>83</th>\n",
       "      <td>AMC</td>\n",
       "      <td>0.004943</td>\n",
       "    </tr>\n",
       "    <tr>\n",
       "      <th>48</th>\n",
       "      <td>REPX</td>\n",
       "      <td>0.003721</td>\n",
       "    </tr>\n",
       "    <tr>\n",
       "      <th>33</th>\n",
       "      <td>ZOM</td>\n",
       "      <td>0.002475</td>\n",
       "    </tr>\n",
       "    <tr>\n",
       "      <th>13</th>\n",
       "      <td>TLRY</td>\n",
       "      <td>0.001942</td>\n",
       "    </tr>\n",
       "    <tr>\n",
       "      <th>18</th>\n",
       "      <td>NFLX</td>\n",
       "      <td>0.001348</td>\n",
       "    </tr>\n",
       "    <tr>\n",
       "      <th>103</th>\n",
       "      <td>OPRX</td>\n",
       "      <td>0.001108</td>\n",
       "    </tr>\n",
       "    <tr>\n",
       "      <th>125</th>\n",
       "      <td>CTRM</td>\n",
       "      <td>0.001013</td>\n",
       "    </tr>\n",
       "  </tbody>\n",
       "</table>\n",
       "</div>"
      ],
      "text/plain": [
       "    ticker  assigned\n",
       "62     CME  0.228064\n",
       "57     CNC  0.205266\n",
       "146    PEP  0.095928\n",
       "95     AEO  0.076769\n",
       "38     UAN  0.050464\n",
       "25    SPLP  0.049105\n",
       "73    FNKO  0.044354\n",
       "131    GME  0.043835\n",
       "140   AMTX  0.030279\n",
       "53   GOOGL  0.029367\n",
       "85    STKS  0.024028\n",
       "7      NTP  0.022940\n",
       "51    EPIX  0.018508\n",
       "75    OCGN  0.014047\n",
       "129   VOLT  0.013404\n",
       "120   GOOG  0.012773\n",
       "77     TBK  0.012544\n",
       "116   INTT  0.010008\n",
       "39     CSU  0.006013\n",
       "47    ESTE  0.005559\n",
       "98    NEXT  0.005154\n",
       "61    CIDM  0.004956\n",
       "83     AMC  0.004943\n",
       "48    REPX  0.003721\n",
       "33     ZOM  0.002475\n",
       "13    TLRY  0.001942\n",
       "18    NFLX  0.001348\n",
       "103   OPRX  0.001108\n",
       "125   CTRM  0.001013"
      ]
     },
     "execution_count": 20,
     "metadata": {},
     "output_type": "execute_result"
    }
   ],
   "source": [
    "alg = ut.calmar\n",
    "assigned, ratio = ut.optimize(alg, close, dates)\n",
    "assigned"
   ]
  },
  {
   "cell_type": "code",
   "execution_count": 21,
   "metadata": {},
   "outputs": [
    {
     "name": "stdout",
     "output_type": "stream",
     "text": [
      "Sortino: 6.570543425810625\n",
      "Sharpe: 3.0438590725206813\n"
     ]
    }
   ],
   "source": [
    "stock_test = close[assigned.ticker].loc[test_dates[0]:test_dates[1]].pct_change()\n",
    "\n",
    "sortino = -ut.sortino(assigned.assigned.tolist(), stock_test)\n",
    "sharpe = -ut.sharpe(assigned.assigned.tolist(), stock_test)\n",
    "\n",
    "print(f'Sortino: {sortino}\\nSharpe: {sharpe}')"
   ]
  },
  {
   "cell_type": "code",
   "execution_count": 22,
   "metadata": {},
   "outputs": [
    {
     "data": {
      "text/plain": [
       "<matplotlib.axes._subplots.AxesSubplot at 0x7fd2ca6def70>"
      ]
     },
     "execution_count": 22,
     "metadata": {},
     "output_type": "execute_result"
    },
    {
     "data": {
      "image/png": "[encoded data removed]",
      "text/plain": [
       "<Figure size 432x288 with 1 Axes>"
      ]
     },
     "metadata": {
      "needs_background": "light"
     },
     "output_type": "display_data"
    }
   ],
   "source": [
    "((close[assigned.ticker].loc[test_dates[0]:test_dates[1]].pct_change()[1:]*assigned.assigned.tolist()).sum(axis=1)+1).cumprod().plot()"
   ]
  },
  {
   "cell_type": "code",
   "execution_count": 23,
   "metadata": {
    "scrolled": true
   },
   "outputs": [
    {
     "name": "stdout",
     "output_type": "stream",
     "text": [
      "Optimization terminated successfully    (Exit mode 0)\n",
      "            Current function value: -4.496130920329712\n",
      "            Iterations: 4\n",
      "            Function evaluations: 592\n",
      "            Gradient evaluations: 4\n",
      "\n",
      "profit: 4.49613\n"
     ]
    },
    {
     "data": {
      "text/html": [
       "<div>\n",
       "<style scoped>\n",
       "    .dataframe tbody tr th:only-of-type {\n",
       "        vertical-align: middle;\n",
       "    }\n",
       "\n",
       "    .dataframe tbody tr th {\n",
       "        vertical-align: top;\n",
       "    }\n",
       "\n",
       "    .dataframe thead th {\n",
       "        text-align: right;\n",
       "    }\n",
       "</style>\n",
       "<table border=\"1\" class=\"dataframe\">\n",
       "  <thead>\n",
       "    <tr style=\"text-align: right;\">\n",
       "      <th></th>\n",
       "      <th>ticker</th>\n",
       "      <th>assigned</th>\n",
       "    </tr>\n",
       "  </thead>\n",
       "  <tbody>\n",
       "    <tr>\n",
       "      <th>6</th>\n",
       "      <td>HVBTF</td>\n",
       "      <td>1.0</td>\n",
       "    </tr>\n",
       "  </tbody>\n",
       "</table>\n",
       "</div>"
      ],
      "text/plain": [
       "  ticker  assigned\n",
       "6  HVBTF       1.0"
      ]
     },
     "execution_count": 23,
     "metadata": {},
     "output_type": "execute_result"
    }
   ],
   "source": [
    "alg = ut.profit\n",
    "assigned, ratio = ut.optimize(alg, close, ('2020-01-01', '2021-01-01'))\n",
    "assigned"
   ]
  },
  {
   "cell_type": "code",
   "execution_count": 24,
   "metadata": {},
   "outputs": [
    {
     "name": "stdout",
     "output_type": "stream",
     "text": [
      "Optimization terminated successfully    (Exit mode 0)\n",
      "            Current function value: -0.016248925635847605\n",
      "            Iterations: 22\n",
      "            Function evaluations: 3256\n",
      "            Gradient evaluations: 22\n",
      "\n",
      "alpha_f: 0.016\n"
     ]
    },
    {
     "data": {
      "text/html": [
       "<div>\n",
       "<style scoped>\n",
       "    .dataframe tbody tr th:only-of-type {\n",
       "        vertical-align: middle;\n",
       "    }\n",
       "\n",
       "    .dataframe tbody tr th {\n",
       "        vertical-align: top;\n",
       "    }\n",
       "\n",
       "    .dataframe thead th {\n",
       "        text-align: right;\n",
       "    }\n",
       "</style>\n",
       "<table border=\"1\" class=\"dataframe\">\n",
       "  <thead>\n",
       "    <tr style=\"text-align: right;\">\n",
       "      <th></th>\n",
       "      <th>ticker</th>\n",
       "      <th>assigned</th>\n",
       "    </tr>\n",
       "  </thead>\n",
       "  <tbody>\n",
       "    <tr>\n",
       "      <th>6</th>\n",
       "      <td>HVBTF</td>\n",
       "      <td>0.572826</td>\n",
       "    </tr>\n",
       "    <tr>\n",
       "      <th>75</th>\n",
       "      <td>OCGN</td>\n",
       "      <td>0.427174</td>\n",
       "    </tr>\n",
       "  </tbody>\n",
       "</table>\n",
       "</div>"
      ],
      "text/plain": [
       "   ticker  assigned\n",
       "6   HVBTF  0.572826\n",
       "75   OCGN  0.427174"
      ]
     },
     "execution_count": 24,
     "metadata": {},
     "output_type": "execute_result"
    }
   ],
   "source": [
    "alg = ut.alpha_f\n",
    "assigned, ratio = ut.optimize(alg, close, ('2020-01-01', '2021-01-01'))\n",
    "assigned"
   ]
  },
  {
   "cell_type": "code",
   "execution_count": 25,
   "metadata": {},
   "outputs": [
    {
     "name": "stdout",
     "output_type": "stream",
     "text": [
      "Optimization terminated successfully    (Exit mode 0)\n",
      "            Current function value: -2.4036938059027664\n",
      "            Iterations: 4\n",
      "            Function evaluations: 592\n",
      "            Gradient evaluations: 4\n",
      "\n",
      "beta_f: 2.404\n"
     ]
    },
    {
     "data": {
      "text/html": [
       "<div>\n",
       "<style scoped>\n",
       "    .dataframe tbody tr th:only-of-type {\n",
       "        vertical-align: middle;\n",
       "    }\n",
       "\n",
       "    .dataframe tbody tr th {\n",
       "        vertical-align: top;\n",
       "    }\n",
       "\n",
       "    .dataframe thead th {\n",
       "        text-align: right;\n",
       "    }\n",
       "</style>\n",
       "<table border=\"1\" class=\"dataframe\">\n",
       "  <thead>\n",
       "    <tr style=\"text-align: right;\">\n",
       "      <th></th>\n",
       "      <th>ticker</th>\n",
       "      <th>assigned</th>\n",
       "    </tr>\n",
       "  </thead>\n",
       "  <tbody>\n",
       "    <tr>\n",
       "      <th>29</th>\n",
       "      <td>GDEN</td>\n",
       "      <td>1.0</td>\n",
       "    </tr>\n",
       "  </tbody>\n",
       "</table>\n",
       "</div>"
      ],
      "text/plain": [
       "   ticker  assigned\n",
       "29   GDEN       1.0"
      ]
     },
     "execution_count": 25,
     "metadata": {},
     "output_type": "execute_result"
    }
   ],
   "source": [
    "alg = ut.beta_f\n",
    "assigned, ratio = ut.optimize(alg, close, ('2020-01-01', '2021-01-01'))\n",
    "assigned"
   ]
  },
  {
   "cell_type": "markdown",
   "metadata": {},
   "source": [
    "### Short Selling"
   ]
  },
  {
   "cell_type": "code",
   "execution_count": 99,
   "metadata": {},
   "outputs": [],
   "source": [
    "stockprices = close[['AAPL']]\n",
    "stockprices.columns = ['close']"
   ]
  },
  {
   "cell_type": "code",
   "execution_count": 100,
   "metadata": {
    "scrolled": true
   },
   "outputs": [
    {
     "data": {
      "text/html": [
       "<div>\n",
       "<style scoped>\n",
       "    .dataframe tbody tr th:only-of-type {\n",
       "        vertical-align: middle;\n",
       "    }\n",
       "\n",
       "    .dataframe tbody tr th {\n",
       "        vertical-align: top;\n",
       "    }\n",
       "\n",
       "    .dataframe thead th {\n",
       "        text-align: right;\n",
       "    }\n",
       "</style>\n",
       "<table border=\"1\" class=\"dataframe\">\n",
       "  <thead>\n",
       "    <tr style=\"text-align: right;\">\n",
       "      <th></th>\n",
       "      <th>close</th>\n",
       "    </tr>\n",
       "    <tr>\n",
       "      <th>Date</th>\n",
       "      <th></th>\n",
       "    </tr>\n",
       "  </thead>\n",
       "  <tbody>\n",
       "    <tr>\n",
       "      <th>2016-01-04</th>\n",
       "      <td>26.337500</td>\n",
       "    </tr>\n",
       "    <tr>\n",
       "      <th>2016-01-05</th>\n",
       "      <td>25.677500</td>\n",
       "    </tr>\n",
       "    <tr>\n",
       "      <th>2016-01-06</th>\n",
       "      <td>25.174999</td>\n",
       "    </tr>\n",
       "    <tr>\n",
       "      <th>2016-01-07</th>\n",
       "      <td>24.112499</td>\n",
       "    </tr>\n",
       "    <tr>\n",
       "      <th>2016-01-08</th>\n",
       "      <td>24.240000</td>\n",
       "    </tr>\n",
       "    <tr>\n",
       "      <th>...</th>\n",
       "      <td>...</td>\n",
       "    </tr>\n",
       "    <tr>\n",
       "      <th>2021-05-06</th>\n",
       "      <td>129.740005</td>\n",
       "    </tr>\n",
       "    <tr>\n",
       "      <th>2021-05-07</th>\n",
       "      <td>130.210007</td>\n",
       "    </tr>\n",
       "    <tr>\n",
       "      <th>2021-05-10</th>\n",
       "      <td>126.849998</td>\n",
       "    </tr>\n",
       "    <tr>\n",
       "      <th>2021-05-11</th>\n",
       "      <td>125.910004</td>\n",
       "    </tr>\n",
       "    <tr>\n",
       "      <th>2021-05-12</th>\n",
       "      <td>122.769997</td>\n",
       "    </tr>\n",
       "  </tbody>\n",
       "</table>\n",
       "<p>1349 rows × 1 columns</p>\n",
       "</div>"
      ],
      "text/plain": [
       "                 close\n",
       "Date                  \n",
       "2016-01-04   26.337500\n",
       "2016-01-05   25.677500\n",
       "2016-01-06   25.174999\n",
       "2016-01-07   24.112499\n",
       "2016-01-08   24.240000\n",
       "...                ...\n",
       "2021-05-06  129.740005\n",
       "2021-05-07  130.210007\n",
       "2021-05-10  126.849998\n",
       "2021-05-11  125.910004\n",
       "2021-05-12  122.769997\n",
       "\n",
       "[1349 rows x 1 columns]"
      ]
     },
     "execution_count": 100,
     "metadata": {},
     "output_type": "execute_result"
    }
   ],
   "source": [
    "stockprices"
   ]
  },
  {
   "cell_type": "code",
   "execution_count": 101,
   "metadata": {},
   "outputs": [],
   "source": []
  },
  {
   "cell_type": "code",
   "execution_count": 102,
   "metadata": {},
   "outputs": [],
   "source": [
    "#autoregression"
   ]
  },
  {
   "cell_type": "code",
   "execution_count": 134,
   "metadata": {},
   "outputs": [],
   "source": [
    "https://www.alphavantage.co/documentation/#dailyadj"
   ]
  },
  {
   "cell_type": "code",
   "execution_count": 217,
   "metadata": {
    "scrolled": true
   },
   "outputs": [],
   "source": [
    "stockprices = close[['NAKD']]\n",
    "stockprices.columns = ['close']\n",
    "stock = stockprices.copy()\n",
    "\n",
    "results = []\n",
    "\n",
    "def rsi(stock, ticker, n, lo, hi):\n",
    "    stock = stock[[ticker]]\n",
    "    stock['return'] = stock[ticker].pct_change()\n",
    "    stock['movement'] = stock[ticker].diff()\n",
    "    stock['up'] = pd.Series(np.where(stock['movement'] > 0, stock['movement'], 0)).rolling(n).mean().tolist()\n",
    "    stock['down'] = pd.Series(np.where(-stock['movement'] > 0, -stock['movement'], 0)).rolling(n).mean().tolist()\n",
    "    stock['rs'] = stock['up']/stock['down']\n",
    "    stock['rsi'] = 100 - (100 / (1 + stock['rs']))\n",
    "    \n",
    "    stock['long'] = np.where((stock['rsi'] < lo), 1, np.nan)\n",
    "    stock['long'] = np.where((stock['rsi'] > hi), 0, stock['long'])\n",
    "    stock['long'].ffill(inplace=True)\n",
    "    \n",
    "    stock['gain_loss'] = stock['long'].shift(1) * stock['return']\n",
    "    stock['total'] =  stock['gain_loss'].cumsum()\n",
    "    \n",
    "    return stock\n",
    "\n",
    "\n",
    "for n in range(1, 50):\n",
    "    for x in range(2, 50, 2):\n",
    "        for y in range(98, 50, -2):\n",
    "            new = rsi(stock, 'close', n, x, y)\n",
    "            results.append([n, x, y, new['total'].iloc[-1]])"
   ]
  },
  {
   "cell_type": "code",
   "execution_count": 218,
   "metadata": {},
   "outputs": [
    {
     "data": {
      "text/html": [
       "<div>\n",
       "<style scoped>\n",
       "    .dataframe tbody tr th:only-of-type {\n",
       "        vertical-align: middle;\n",
       "    }\n",
       "\n",
       "    .dataframe tbody tr th {\n",
       "        vertical-align: top;\n",
       "    }\n",
       "\n",
       "    .dataframe thead th {\n",
       "        text-align: right;\n",
       "    }\n",
       "</style>\n",
       "<table border=\"1\" class=\"dataframe\">\n",
       "  <thead>\n",
       "    <tr style=\"text-align: right;\">\n",
       "      <th>Symbols</th>\n",
       "      <th>NAKD</th>\n",
       "    </tr>\n",
       "    <tr>\n",
       "      <th>Date</th>\n",
       "      <th></th>\n",
       "    </tr>\n",
       "  </thead>\n",
       "  <tbody>\n",
       "    <tr>\n",
       "      <th>2016-01-04</th>\n",
       "      <td>381.0000</td>\n",
       "    </tr>\n",
       "    <tr>\n",
       "      <th>2016-01-05</th>\n",
       "      <td>397.0000</td>\n",
       "    </tr>\n",
       "    <tr>\n",
       "      <th>2016-01-06</th>\n",
       "      <td>390.0000</td>\n",
       "    </tr>\n",
       "    <tr>\n",
       "      <th>2016-01-07</th>\n",
       "      <td>374.0000</td>\n",
       "    </tr>\n",
       "    <tr>\n",
       "      <th>2016-01-08</th>\n",
       "      <td>345.0000</td>\n",
       "    </tr>\n",
       "    <tr>\n",
       "      <th>...</th>\n",
       "      <td>...</td>\n",
       "    </tr>\n",
       "    <tr>\n",
       "      <th>2021-05-06</th>\n",
       "      <td>0.5264</td>\n",
       "    </tr>\n",
       "    <tr>\n",
       "      <th>2021-05-07</th>\n",
       "      <td>0.5404</td>\n",
       "    </tr>\n",
       "    <tr>\n",
       "      <th>2021-05-10</th>\n",
       "      <td>0.5208</td>\n",
       "    </tr>\n",
       "    <tr>\n",
       "      <th>2021-05-11</th>\n",
       "      <td>0.5396</td>\n",
       "    </tr>\n",
       "    <tr>\n",
       "      <th>2021-05-12</th>\n",
       "      <td>0.5029</td>\n",
       "    </tr>\n",
       "  </tbody>\n",
       "</table>\n",
       "<p>1349 rows × 1 columns</p>\n",
       "</div>"
      ],
      "text/plain": [
       "Symbols         NAKD\n",
       "Date                \n",
       "2016-01-04  381.0000\n",
       "2016-01-05  397.0000\n",
       "2016-01-06  390.0000\n",
       "2016-01-07  374.0000\n",
       "2016-01-08  345.0000\n",
       "...              ...\n",
       "2021-05-06    0.5264\n",
       "2021-05-07    0.5404\n",
       "2021-05-10    0.5208\n",
       "2021-05-11    0.5396\n",
       "2021-05-12    0.5029\n",
       "\n",
       "[1349 rows x 1 columns]"
      ]
     },
     "execution_count": 218,
     "metadata": {},
     "output_type": "execute_result"
    }
   ],
   "source": [
    "close[['NAKD']]"
   ]
  },
  {
   "cell_type": "code",
   "execution_count": 223,
   "metadata": {},
   "outputs": [
    {
     "data": {
      "text/plain": [
       "[<matplotlib.lines.Line2D at 0x7fd2aedd4100>]"
      ]
     },
     "execution_count": 223,
     "metadata": {},
     "output_type": "execute_result"
    },
    {
     "data": {
      "image/png": "[encoded data removed]",
      "text/plain": [
       "<Figure size 432x288 with 1 Axes>"
      ]
     },
     "metadata": {
      "needs_background": "light"
     },
     "output_type": "display_data"
    }
   ],
   "source": [
    "plt.plot(pd.DataFrame(results, columns = ['n', 'low', 'hi', 'gain']).sort_values(by='gain', ascending=False).gain.to_list())"
   ]
  },
  {
   "cell_type": "code",
   "execution_count": 225,
   "metadata": {},
   "outputs": [
    {
     "data": {
      "text/plain": [
       "[<matplotlib.lines.Line2D at 0x7fd2ae3ca040>]"
      ]
     },
     "execution_count": 225,
     "metadata": {},
     "output_type": "execute_result"
    },
    {
     "data": {
      "image/png": "[encoded data removed]",
      "text/plain": [
       "<Figure size 432x288 with 1 Axes>"
      ]
     },
     "metadata": {
      "needs_background": "light"
     },
     "output_type": "display_data"
    }
   ],
   "source": [
    "plt.plot(stock['close'].tolist())"
   ]
  },
  {
   "cell_type": "code",
   "execution_count": 213,
   "metadata": {},
   "outputs": [
    {
     "data": {
      "text/plain": [
       "<matplotlib.axes._subplots.AxesSubplot at 0x7fd2ada1cd30>"
      ]
     },
     "execution_count": 213,
     "metadata": {},
     "output_type": "execute_result"
    },
    {
     "data": {
      "image/png": "[encoded data removed]",
      "text/plain": [
       "<Figure size 432x288 with 1 Axes>"
      ]
     },
     "metadata": {
      "needs_background": "light"
     },
     "output_type": "display_data"
    }
   ],
   "source": [
    "new.total.plot()"
   ]
  },
  {
   "cell_type": "code",
   "execution_count": null,
   "metadata": {},
   "outputs": [],
   "source": [
    "#new = pd.merge(stockprices, RSI, left_index=True, right_index=True)\n",
    "\n",
    "#If the indicator’s line crosses the level 30 from below, a long position (Buy) is opened.  \n",
    "new['long'] = np.where((new['RSI'] < 30),1,np.nan)\n",
    "new['long'] = np.where((new['RSI'] > 70),0,new['long'])\n",
    "\n",
    "new['long'].ffill(inplace=True)\n",
    "\n",
    "new['gain_loss'] = new['long'].shift(1) * new['return']\n",
    "\n",
    "new['total'] =  new['gain_loss'].cumsum()\n",
    "\n",
    "print(new.tail(600))"
   ]
  },
  {
   "cell_type": "code",
   "execution_count": 154,
   "metadata": {},
   "outputs": [
    {
     "data": {
      "text/plain": [
       "<matplotlib.axes._subplots.AxesSubplot at 0x7fd2ccba7c70>"
      ]
     },
     "execution_count": 154,
     "metadata": {},
     "output_type": "execute_result"
    },
    {
     "data": {
      "image/png": "[encoded data removed]",
      "text/plain": [
       "<Figure size 432x288 with 1 Axes>"
      ]
     },
     "metadata": {
      "needs_background": "light"
     },
     "output_type": "display_data"
    }
   ],
   "source": [
    "stock.rsi.plot()"
   ]
  },
  {
   "cell_type": "code",
   "execution_count": 124,
   "metadata": {},
   "outputs": [
    {
     "data": {
      "text/plain": [
       "<matplotlib.axes._subplots.AxesSubplot at 0x7fd2cc84ca00>"
      ]
     },
     "execution_count": 124,
     "metadata": {},
     "output_type": "execute_result"
    },
    {
     "data": {
      "image/png": "[encoded data removed]",
      "text/plain": [
       "<Figure size 432x288 with 1 Axes>"
      ]
     },
     "metadata": {
      "needs_background": "light"
     },
     "output_type": "display_data"
    }
   ],
   "source": [
    "pd.Series(np.where(stock['movement'] > 0, stock['movement'], 0)).rolling(n).mean()"
   ]
  },
  {
   "cell_type": "code",
   "execution_count": 122,
   "metadata": {},
   "outputs": [
    {
     "data": {
      "text/plain": [
       "<matplotlib.axes._subplots.AxesSubplot at 0x7fd2cc4f0460>"
      ]
     },
     "execution_count": 122,
     "metadata": {},
     "output_type": "execute_result"
    },
    {
     "data": {
      "image/png": "[encoded data removed]",
      "text/plain": [
       "<Figure size 432x288 with 1 Axes>"
      ]
     },
     "metadata": {
      "needs_background": "light"
     },
     "output_type": "display_data"
    }
   ],
   "source": [
    "stock.up.plot()"
   ]
  },
  {
   "cell_type": "code",
   "execution_count": 114,
   "metadata": {},
   "outputs": [
    {
     "data": {
      "text/plain": [
       "array([nan, nan, nan, ..., nan, nan, nan])"
      ]
     },
     "execution_count": 114,
     "metadata": {},
     "output_type": "execute_result"
    }
   ],
   "source": [
    "stock['up'].values/stock['down'].values"
   ]
  },
  {
   "cell_type": "code",
   "execution_count": 94,
   "metadata": {},
   "outputs": [
    {
     "name": "stderr",
     "output_type": "stream",
     "text": [
      "<ipython-input-92-d05d2bd4a196>:6: SettingWithCopyWarning: \n",
      "A value is trying to be set on a copy of a slice from a DataFrame.\n",
      "Try using .loc[row_indexer,col_indexer] = value instead\n",
      "\n",
      "See the caveats in the documentation: https://pandas.pydata.org/pandas-docs/stable/user_guide/indexing.html#returning-a-view-versus-a-copy\n",
      "  stock['return'] = stock[ticker].pct_change()\n",
      "<ipython-input-92-d05d2bd4a196>:7: SettingWithCopyWarning: \n",
      "A value is trying to be set on a copy of a slice from a DataFrame.\n",
      "Try using .loc[row_indexer,col_indexer] = value instead\n",
      "\n",
      "See the caveats in the documentation: https://pandas.pydata.org/pandas-docs/stable/user_guide/indexing.html#returning-a-view-versus-a-copy\n",
      "  stock['movement'] = stock[ticker].diff()\n",
      "<ipython-input-92-d05d2bd4a196>:8: SettingWithCopyWarning: \n",
      "A value is trying to be set on a copy of a slice from a DataFrame.\n",
      "Try using .loc[row_indexer,col_indexer] = value instead\n",
      "\n",
      "See the caveats in the documentation: https://pandas.pydata.org/pandas-docs/stable/user_guide/indexing.html#returning-a-view-versus-a-copy\n",
      "  stock['up'] = stock['movement'][stock['movement'] > 0].rolling(n).mean()\n",
      "<ipython-input-92-d05d2bd4a196>:9: SettingWithCopyWarning: \n",
      "A value is trying to be set on a copy of a slice from a DataFrame.\n",
      "Try using .loc[row_indexer,col_indexer] = value instead\n",
      "\n",
      "See the caveats in the documentation: https://pandas.pydata.org/pandas-docs/stable/user_guide/indexing.html#returning-a-view-versus-a-copy\n",
      "  stock['down'] = -stock['movement'][stock['movement'] < 0].rolling(n).mean()\n",
      "<ipython-input-92-d05d2bd4a196>:10: SettingWithCopyWarning: \n",
      "A value is trying to be set on a copy of a slice from a DataFrame.\n",
      "Try using .loc[row_indexer,col_indexer] = value instead\n",
      "\n",
      "See the caveats in the documentation: https://pandas.pydata.org/pandas-docs/stable/user_guide/indexing.html#returning-a-view-versus-a-copy\n",
      "  stock['rs'] = stock['up']/stock['down']\n",
      "<ipython-input-92-d05d2bd4a196>:11: SettingWithCopyWarning: \n",
      "A value is trying to be set on a copy of a slice from a DataFrame.\n",
      "Try using .loc[row_indexer,col_indexer] = value instead\n",
      "\n",
      "See the caveats in the documentation: https://pandas.pydata.org/pandas-docs/stable/user_guide/indexing.html#returning-a-view-versus-a-copy\n",
      "  stock['rsi'] = 100 - (100 / (1 + stock['rs']))\n"
     ]
    },
    {
     "data": {
      "text/plain": [
       "<matplotlib.axes._subplots.AxesSubplot at 0x7fd2cbb886a0>"
      ]
     },
     "execution_count": 94,
     "metadata": {},
     "output_type": "execute_result"
    },
    {
     "data": {
      "image/png": "[encoded data removed]",
      "text/plain": [
       "<Figure size 432x288 with 1 Axes>"
      ]
     },
     "metadata": {
      "needs_background": "light"
     },
     "output_type": "display_data"
    }
   ],
   "source": [
    "rsi(close, 'AAPL', 14)['rsi'].plot()"
   ]
  },
  {
   "cell_type": "code",
   "execution_count": 95,
   "metadata": {
    "scrolled": true
   },
   "outputs": [],
   "source": [
    "n = 14\n",
    "\n",
    "ret = 1+apple.pct_change()\n",
    "mov = apple.diff()\n",
    "up = pd.Series(np.where(mov > 0, mov, 0).flatten()).rolling(n).mean()\n",
    "down = pd.Series(np.where(mov < 0, mov, 0).flatten()).rolling(n).mean()\n",
    "rs = up / down\n",
    "rsi = 100 - (100 / (1 + rs))"
   ]
  },
  {
   "cell_type": "code",
   "execution_count": 96,
   "metadata": {},
   "outputs": [
    {
     "data": {
      "text/plain": [
       "<matplotlib.axes._subplots.AxesSubplot at 0x7fd2cba68850>"
      ]
     },
     "execution_count": 96,
     "metadata": {},
     "output_type": "execute_result"
    },
    {
     "data": {
      "image/png": "[encoded data removed]",
      "text/plain": [
       "<Figure size 432x288 with 1 Axes>"
      ]
     },
     "metadata": {
      "needs_background": "light"
     },
     "output_type": "display_data"
    }
   ],
   "source": [
    "rsi.plot()"
   ]
  },
  {
   "cell_type": "code",
   "execution_count": 97,
   "metadata": {},
   "outputs": [
    {
     "name": "stdout",
     "output_type": "stream",
     "text": [
      "Date\n",
      "2016-01-04          NaN\n",
      "2016-01-05          NaN\n",
      "2016-01-06          NaN\n",
      "2016-01-07          NaN\n",
      "2016-01-08          NaN\n",
      "                ...    \n",
      "2021-05-06    37.762995\n",
      "2021-05-07    37.030824\n",
      "2021-05-10    33.932223\n",
      "2021-05-11    31.053413\n",
      "2021-05-12    28.782951\n",
      "Name: RSI, Length: 1349, dtype: float64\n"
     ]
    },
    {
     "name": "stderr",
     "output_type": "stream",
     "text": [
      "<ipython-input-97-1f22a659fa85>:1: SettingWithCopyWarning: \n",
      "A value is trying to be set on a copy of a slice from a DataFrame.\n",
      "Try using .loc[row_indexer,col_indexer] = value instead\n",
      "\n",
      "See the caveats in the documentation: https://pandas.pydata.org/pandas-docs/stable/user_guide/indexing.html#returning-a-view-versus-a-copy\n",
      "  stockprices['return'] = np.log(stockprices['close'] / stockprices['close'].shift(1) )\n",
      "<ipython-input-97-1f22a659fa85>:4: SettingWithCopyWarning: \n",
      "A value is trying to be set on a copy of a slice from a DataFrame.\n",
      "Try using .loc[row_indexer,col_indexer] = value instead\n",
      "\n",
      "See the caveats in the documentation: https://pandas.pydata.org/pandas-docs/stable/user_guide/indexing.html#returning-a-view-versus-a-copy\n",
      "  stockprices['movement'] = stockprices['close'] - stockprices['close'].shift(1)\n",
      "<ipython-input-97-1f22a659fa85>:6: SettingWithCopyWarning: \n",
      "A value is trying to be set on a copy of a slice from a DataFrame.\n",
      "Try using .loc[row_indexer,col_indexer] = value instead\n",
      "\n",
      "See the caveats in the documentation: https://pandas.pydata.org/pandas-docs/stable/user_guide/indexing.html#returning-a-view-versus-a-copy\n",
      "  stockprices['up'] = np.where((stockprices['movement'] > 0) ,stockprices['movement'],0)\n",
      "<ipython-input-97-1f22a659fa85>:8: SettingWithCopyWarning: \n",
      "A value is trying to be set on a copy of a slice from a DataFrame.\n",
      "Try using .loc[row_indexer,col_indexer] = value instead\n",
      "\n",
      "See the caveats in the documentation: https://pandas.pydata.org/pandas-docs/stable/user_guide/indexing.html#returning-a-view-versus-a-copy\n",
      "  stockprices['down'] = np.where((stockprices['movement'] < 0) ,stockprices['movement'],0)\n"
     ]
    }
   ],
   "source": [
    "\n",
    "stockprices['return'] = np.log(stockprices['close'] / stockprices['close'].shift(1) )\n",
    "\n",
    "#calculate the movement on the price compared to the previous day closing price\n",
    "stockprices['movement'] = stockprices['close'] - stockprices['close'].shift(1)\n",
    "\n",
    "stockprices['up'] = np.where((stockprices['movement'] > 0) ,stockprices['movement'],0)\n",
    "\n",
    "stockprices['down'] = np.where((stockprices['movement'] < 0) ,stockprices['movement'],0)\n",
    "\n",
    "window_length = 14\n",
    "#calculate moving average of the last 14 days  gains\n",
    "up = stockprices['up'].rolling(window_length).mean()\n",
    "\n",
    "#calculate moving average of the last 14 days  losses\n",
    "down = stockprices['down'].abs().rolling(window_length).mean()\n",
    "\n",
    "RS = up / down\n",
    "\n",
    "RSI = 100.0 - (100.0 / (1.0 + RS))\n",
    "\n",
    "RSI = RSI.rename(\"RSI\")\n",
    "print(RSI)"
   ]
  },
  {
   "cell_type": "code",
   "execution_count": 98,
   "metadata": {},
   "outputs": [
    {
     "data": {
      "text/plain": [
       "<matplotlib.axes._subplots.AxesSubplot at 0x7fd2cbe170a0>"
      ]
     },
     "execution_count": 98,
     "metadata": {},
     "output_type": "execute_result"
    },
    {
     "data": {
      "image/png": "[encoded data removed]",
      "text/plain": [
       "<Figure size 432x288 with 1 Axes>"
      ]
     },
     "metadata": {
      "needs_background": "light"
     },
     "output_type": "display_data"
    }
   ],
   "source": [
    "RSI.plot()"
   ]
  },
  {
   "cell_type": "code",
   "execution_count": 82,
   "metadata": {},
   "outputs": [],
   "source": [
    "periods = [4 ,5, 10, 20, 50, 100]\n",
    "mov_avg = ut.moving_average(close, 'TSLA', periods)"
   ]
  },
  {
   "cell_type": "code",
   "execution_count": 86,
   "metadata": {},
   "outputs": [],
   "source": [
    "def bollinger(df: pd.DataFrame, ticker:str, n:int, stds:float) -> pd.DataFrame:\n",
    "    \"\"\"\n",
    "    \"\"\"\n",
    "    temp = df[[ticker]].copy()\n",
    "    temp[f'ma_{n}'] = temp[ticker].rolling(n).mean()\n",
    "    temp[f'std_{n}'] = temp[ticker].rolling(n).std()\n",
    "    temp[f'bb_lo_{n}'] = temp[f'ma_{n}'] - stds * temp[f'std_{n}']\n",
    "    temp[f'bb_hi_{n}'] = temp[f'ma_{n}'] + stds * temp[f'std_{n}']\n",
    "    temp.drop(f'std_{n}', axis=1, inplace=True)\n",
    "    return temp"
   ]
  },
  {
   "cell_type": "code",
   "execution_count": 108,
   "metadata": {},
   "outputs": [],
   "source": [
    "tsla = bollinger(close, 'TSLA', 20, 2)"
   ]
  },
  {
   "cell_type": "code",
   "execution_count": 109,
   "metadata": {},
   "outputs": [
    {
     "data": {
      "image/png": "[encoded data removed]",
      "text/plain": [
       "<Figure size 1152x648 with 1 Axes>"
      ]
     },
     "metadata": {
      "needs_background": "light"
     },
     "output_type": "display_data"
    }
   ],
   "source": [
    "plt.figure(figsize=(16, 9))\n",
    "plt.plot(tsla['bb_hi_20'].tail(252), color='r')\n",
    "plt.plot(tsla['TSLA'].tail(252), color='b')\n",
    "plt.plot(tsla['bb_lo_20'].tail(252), color='r')\n",
    "plt.show()"
   ]
  },
  {
   "cell_type": "code",
   "execution_count": 216,
   "metadata": {},
   "outputs": [
    {
     "data": {
      "text/plain": [
       "Symbols\n",
       "NAKD    0.001320\n",
       "SQBG    0.040342\n",
       "AHT     0.042847\n",
       "OCGN    0.044018\n",
       "EGLE    0.098132\n",
       "          ...   \n",
       "NKLA         NaN\n",
       "CTRM         NaN\n",
       "CSSE         NaN\n",
       "WBT          NaN\n",
       "NIO          NaN\n",
       "Length: 148, dtype: float64"
      ]
     },
     "execution_count": 216,
     "metadata": {},
     "output_type": "execute_result"
    }
   ],
   "source": [
    "(close.iloc[-1]/close.iloc[0]).sort_values()"
   ]
  },
  {
   "cell_type": "code",
   "execution_count": null,
   "metadata": {},
   "outputs": [],
   "source": []
  }
 ],
 "metadata": {
  "kernelspec": {
   "display_name": "Python 3",
   "language": "python",
   "name": "python3"
  },
  "language_info": {
   "codemirror_mode": {
    "name": "ipython",
    "version": 3
   },
   "file_extension": ".py",
   "mimetype": "text/x-python",
   "name": "python",
   "nbconvert_exporter": "python",
   "pygments_lexer": "ipython3",
   "version": "3.8.3"
  }
 },
 "nbformat": 4,
 "nbformat_minor": 5
}
